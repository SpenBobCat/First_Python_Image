{
  "nbformat": 4,
  "nbformat_minor": 0,
  "metadata": {
    "colab": {
      "provenance": [],
      "authorship_tag": "ABX9TyMv4wiupM1XXZmtyC3EWPIa",
      "include_colab_link": true
    },
    "kernelspec": {
      "name": "python3",
      "display_name": "Python 3"
    },
    "language_info": {
      "name": "python"
    }
  },
  "cells": [
    {
      "cell_type": "markdown",
      "metadata": {
        "id": "view-in-github",
        "colab_type": "text"
      },
      "source": [
        "<a href=\"https://colab.research.google.com/github/SpenBobCat/First_Python_Image/blob/main/First_Python_Image.ipynb\" target=\"_parent\"><img src=\"https://colab.research.google.com/assets/colab-badge.svg\" alt=\"Open In Colab\"/></a>"
      ]
    },
    {
      "cell_type": "markdown",
      "source": [
        "# **Build Your First Python Image.**\n",
        "\n",
        "Docker Docs - https://docs.docker.com/language/python/?uuid=69F96C9F-E3C2-4459-A61C-92C7AAA9671E\n",
        "\n",
        "By: Michael Spencer 5/15/2023"
      ],
      "metadata": {
        "id": "68HIj_KthuMI"
      }
    },
    {
      "cell_type": "markdown",
      "source": [
        "# **What will you learn in this module?**\n",
        "\n",
        "The Python getting started guide teaches you how to create a containerized Python application using Docker. In this guide, you’ll learn how to:\n",
        "\n",
        "- Create a sample Python application\n",
        "- Create a new Dockerfile which contains instructions required to - build a Python image\n",
        "- Build an image and run the newly built image as a container\n",
        "- Set up volumes and networking\n",
        "- Orchestrate containers using Compose\n",
        "- Use containers for development\n",
        "- Configure a CI/CD pipeline for your application using GitHub Actions\n",
        "- Deploy your application to the cloud\n",
        "\n",
        "After completing the Python getting started modules, you should be able to containerize your own Python application based on the examples and instructions provided in this guide.\n",
        "\n",
        "Let’s get started!\n",
        "\n",
        "**Build your first Python image**"
      ],
      "metadata": {
        "id": "EDtoYhmxiPZo"
      }
    },
    {
      "cell_type": "markdown",
      "source": [
        "# **Build your Python image**\n",
        "\n",
        "![image.png](data:image/png;base64,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)\n"
      ],
      "metadata": {
        "id": "Z8h1hJoejN99"
      }
    },
    {
      "cell_type": "markdown",
      "source": [
        "**Prerequisites:**\n",
        "\n",
        "- You understand basic Docker concepts.\n",
        "- You’re familiar with the Dockerfile format.\n",
        "- You have enabled BuildKit on your machine.\n",
        "\n",
        "**Overview:**\n",
        "\n",
        "Now that you have a good overview of containers and the Docker platform, let’s take a look at building your first image. An image includes everything needed to run an application - the code or binary, runtime, dependencies, and any other file system objects required.\n",
        "\n",
        "**To complete this tutorial, you need the following:**\n",
        "\n",
        "- Python version 3.8 or later. https://www.python.org/downloads/\n",
        "- Docker running locally. Follow the instructions to https://docs.docker.com/desktop/\n",
        "- An IDE or a text editor to edit files. We recommend using https://code.visualstudio.com/Download.\n",
        "\n",
        "**Sample application:**\n",
        "\n",
        "The sample application uses the popular Flask framework.\n",
        "\n",
        "Create a directory on your local machine named python-docker and follow the steps below to activate a Python virtual environment, install Flask as a dependency, and create a Python code file."
      ],
      "metadata": {
        "id": "X2ylKPo8jYMu"
      }
    },
    {
      "cell_type": "markdown",
      "source": [
        "\n",
        "```\n",
        "cd /path/to/python-docker\n",
        "python3 -m venv .venv\n",
        "source .venv/bin/activate\n",
        "(.venv) $ python3 -m pip install Flask\n",
        "(.venv) $ python3 -m pip freeze > requirements.txt\n",
        "(.venv) $ touch app.py\n",
        "```\n"
      ],
      "metadata": {
        "id": "ck0pNohbklKs"
      }
    },
    {
      "cell_type": "markdown",
      "source": [
        "Add code to handle simple web requests. Open the python-docker directory in your favorite IDE and enter the following code into the **app.py** file."
      ],
      "metadata": {
        "id": "hXy4Tuwjk7VO"
      }
    },
    {
      "cell_type": "markdown",
      "source": [
        "\n",
        "\n",
        "```\n",
        "from flask import Flask\n",
        "app = Flask(__name__)\n",
        "\n",
        "@app.route('/')\n",
        "def hello_world():\n",
        "    return 'Hello, Docker!'\n",
        "```\n",
        "\n"
      ],
      "metadata": {
        "id": "ng5oLcEqlC3P"
      }
    },
    {
      "cell_type": "markdown",
      "source": [
        "# **Test the application**\n",
        "\n",
        "Start the application and make sure it’s running. Open your terminal and navigate to the working directory you created."
      ],
      "metadata": {
        "id": "jjiee28QlRtY"
      }
    },
    {
      "cell_type": "markdown",
      "source": [
        "\n",
        "\n",
        "```\n",
        "cd /path/to/python-docker\n",
        "source .venv/bin/activate\n",
        "(.venv) $ python3 -m flask run\n",
        "```\n",
        "\n"
      ],
      "metadata": {
        "id": "BgqjRUQ-lVOY"
      }
    },
    {
      "cell_type": "markdown",
      "source": [
        "To test that the application is working, open a new browser and navigate to http://localhost:5000.\n",
        "\n",
        "Switch back to the terminal where the server is running and you should see the following requests in the server logs. The data and timestamp will be different on your machine."
      ],
      "metadata": {
        "id": "VntqC_HilY6Q"
      }
    },
    {
      "cell_type": "markdown",
      "source": [
        "\n",
        "\n",
        "```\n",
        "127.0.0.1 - - [22/Sep/2020 11:07:41] \"GET / HTTP/1.1\" 200 -\n",
        "```\n",
        "\n"
      ],
      "metadata": {
        "id": "ExZiooA0ldJQ"
      }
    },
    {
      "cell_type": "markdown",
      "source": [
        "# **Create a Dockerfile for Python**\n",
        "\n",
        "Now that the application is running, you can create a Dockerfile from it.\n",
        "\n",
        "Inside the python-docker directory create a Dockerfile and add a line that tells Docker what base image to use for the application."
      ],
      "metadata": {
        "id": "Oi0q-x4klikR"
      }
    },
    {
      "cell_type": "markdown",
      "source": [
        "\n",
        "\n",
        "```\n",
        "# syntax=docker/dockerfile:1\n",
        "\n",
        "FROM python:3.8-slim-buster\n",
        "```\n",
        "\n"
      ],
      "metadata": {
        "id": "NJ-SbZX7l02K"
      }
    },
    {
      "cell_type": "markdown",
      "source": [
        "Docker images can inherit from other images. Therefore, instead of creating your own base image, you can use the official Python image that has all the tools and packages needed to run a Python application."
      ],
      "metadata": {
        "id": "Qy97PWGnl6BN"
      }
    },
    {
      "cell_type": "markdown",
      "source": [
        "To make things easier when running the remaining commands, create a working directory. This instructs Docker to use this path as the default location for all subsequent commands. This means you can use relative file paths based on the working directory instead of full file paths."
      ],
      "metadata": {
        "id": "Q_tvNbgOmCKF"
      }
    },
    {
      "cell_type": "markdown",
      "source": [
        "\n",
        "\n",
        "```\n",
        "WORKDIR /app\n",
        "```\n",
        "\n"
      ],
      "metadata": {
        "id": "mf_sIPu7mH5r"
      }
    },
    {
      "cell_type": "markdown",
      "source": [
        "Usually, the first thing you do with a project written in Python is to install pip packages to ensure the application has all its dependencies installed.\n",
        "\n",
        "Before running **pip3 install**, you need the **requirements.txt** file into the image. Use the **COPY** command to do this.\n",
        "\n",
        "The **COPY** command takes two parameters. The first parameter tells Docker what file(s) you would like to copy into the image. The second parameter tells Docker where to copy that file(s) to. For this example, copy the **requirements.txt** file into the **working directory /app**."
      ],
      "metadata": {
        "id": "3wBCGGtymLRc"
      }
    },
    {
      "cell_type": "markdown",
      "source": [
        "\n",
        "\n",
        "```\n",
        "COPY requirements.txt requirements.txt\n",
        "```\n",
        "\n"
      ],
      "metadata": {
        "id": "iBerlVEomlDu"
      }
    },
    {
      "cell_type": "markdown",
      "source": [
        "With the **requirements.txt** file inside the image, you can use the **RUN** command to run **pip3 install**. This works exactly the same as running **pip3 install** locally on a machine, but this time pip installs the modules into the image."
      ],
      "metadata": {
        "id": "T6sGbt4qmri_"
      }
    },
    {
      "cell_type": "markdown",
      "source": [
        "\n",
        "\n",
        "```\n",
        "RUN pip3 install -r requirements.txt\n",
        "```\n",
        "\n"
      ],
      "metadata": {
        "id": "CwwQLeRcm5WA"
      }
    },
    {
      "cell_type": "markdown",
      "source": [
        "At this point, you have an image based on Python version 3.8 and have installed the dependencies. The next step is to add the source code into the image. Use the **COPY** command as with the **requirements.txt** file. This **COPY** command takes all the files located in the current directory and copies them into the image."
      ],
      "metadata": {
        "id": "az4MwAzUm9aR"
      }
    },
    {
      "cell_type": "markdown",
      "source": [
        "\n",
        "\n",
        "```\n",
        "COPY . .\n",
        "```\n",
        "\n"
      ],
      "metadata": {
        "id": "yrPWVZYknHH5"
      }
    },
    {
      "cell_type": "markdown",
      "source": [
        "Now, tell Docker what command to run when the image is executed inside a container using the **CMD** command. Note that you need to make the application externally visible (i.e. from outside the container) by specifying **--host=0.0.0.0.**"
      ],
      "metadata": {
        "id": "kO1wLhx3nKq8"
      }
    },
    {
      "cell_type": "markdown",
      "source": [
        "\n",
        "\n",
        "```\n",
        "CMD [\"python3\", \"-m\" , \"flask\", \"run\", \"--host=0.0.0.0\"]\n",
        "```\n",
        "\n"
      ],
      "metadata": {
        "id": "BDeNuHdsnUjD"
      }
    },
    {
      "cell_type": "markdown",
      "source": [
        "Here’s the complete Dockerfile."
      ],
      "metadata": {
        "id": "zA08F8_0nYba"
      }
    },
    {
      "cell_type": "markdown",
      "source": [
        "\n",
        "\n",
        "```\n",
        "# syntax=docker/dockerfile:1\n",
        "\n",
        "FROM python:3.8-slim-buster\n",
        "\n",
        "WORKDIR /app\n",
        "\n",
        "COPY requirements.txt requirements.txt\n",
        "RUN pip3 install -r requirements.txt\n",
        "\n",
        "COPY . .\n",
        "\n",
        "CMD [\"python3\", \"-m\" , \"flask\", \"run\", \"--host=0.0.0.0\"]\n",
        "```\n",
        "\n"
      ],
      "metadata": {
        "id": "hPwjLJ2NnZZL"
      }
    },
    {
      "cell_type": "markdown",
      "source": [
        "# **Directory structure**\n",
        "\n",
        "Just to recap, you created a directory on your local machine called **python-docker** and created a simple Python application using the Flask framework. You used the **requirements.txt** file to gather requirements, and created a **Dockerfile** containing the commands to build an image. The Python application directory structure should now look like the following:"
      ],
      "metadata": {
        "id": "3-25YfevnZxz"
      }
    },
    {
      "cell_type": "markdown",
      "source": [
        "\n",
        "\n",
        "```\n",
        "python-docker\n",
        "|____ app.py\n",
        "|____ requirements.txt\n",
        "|____ Dockerfile\n",
        "```\n",
        "\n"
      ],
      "metadata": {
        "id": "Yyh_-7gMnv7T"
      }
    },
    {
      "cell_type": "markdown",
      "source": [
        "# **Build an image**\n",
        "\n",
        "Now that you’ve created the **Dockerfile**, let’s build the image. To do this, use the **docker build** command. The **docker build** command builds Docker images from a Dockerfile and a “context”. A build’s context is the set of files located in the specified PATH or URL. The Docker build process can access any of the files located in this context.\n",
        "\n",
        "The build command optionally takes a **--tag** flag. The tag sets the name of the image and an optional tag in the format **name:tag**. Leave off the optional tag for now to help simplify things. If you don’t pass a tag, Docker uses “latest” as its default tag.\n",
        "\n",
        "Build the Docker image."
      ],
      "metadata": {
        "id": "ENhe3gDinzsE"
      }
    },
    {
      "cell_type": "markdown",
      "source": [
        "\n",
        "\n",
        "```\n",
        "docker build --tag python-docker .\n",
        "[+] Building 2.7s (10/10) FINISHED\n",
        " => [internal] load build definition from Dockerfile\n",
        " => => transferring dockerfile: 203B\n",
        " => [internal] load .dockerignore\n",
        " => => transferring context: 2B\n",
        " => [internal] load metadata for docker.io/library/python:3.8-slim-buster\n",
        " => [1/6] FROM docker.io/library/python:3.8-slim-buster\n",
        " => [internal] load build context\n",
        " => => transferring context: 953B\n",
        " => CACHED [2/6] WORKDIR /app\n",
        " => [3/6] COPY requirements.txt requirements.txt\n",
        " => [4/6] RUN pip3 install -r requirements.txt\n",
        " => [5/6] COPY . .\n",
        " => [6/6] CMD [\"python3\", \"-m\", \"flask\", \"run\", \"--host=0.0.0.0\"]\n",
        " => exporting to image\n",
        " => => exporting layers\n",
        " => => writing image sha256:8cae92a8fbd6d091ce687b71b31252056944b09760438905b726625831564c4c\n",
        " => => naming to docker.io/library/python-docker\n",
        "```\n",
        "\n"
      ],
      "metadata": {
        "id": "LnC1sZlboLNO"
      }
    },
    {
      "cell_type": "markdown",
      "source": [
        "# **View local images**\n",
        "\n",
        "To see a list of images you have on your local machine, you have two options. One is to use the Docker CLI and the other is to use Docker Desktop. As you are working in the terminal already, take a look at listing images using the CLI.\n",
        "\n",
        "To list images, run the docker images command."
      ],
      "metadata": {
        "id": "svkyje3RoQCf"
      }
    },
    {
      "cell_type": "markdown",
      "source": [
        "\n",
        "\n",
        "```\n",
        "$ docker images\n",
        "REPOSITORY      TAG               IMAGE ID       CREATED         SIZE\n",
        "python-docker   latest            8cae92a8fbd6   3 minutes ago   123MB\n",
        "\n",
        "```\n"
      ],
      "metadata": {
        "id": "FI2V461lodgK"
      }
    },
    {
      "cell_type": "markdown",
      "source": [
        "You should see at least one image listed, including the image you just built **python-docker:latest**."
      ],
      "metadata": {
        "id": "QKFZ_pZAoiDJ"
      }
    },
    {
      "cell_type": "markdown",
      "source": [
        "# **Tag images**\n",
        "\n",
        "As mentioned earlier, an image name is made up of slash-separated name components. Name components may contain lowercase letters, digits, and separators. A separator can include a period, one or two underscores, or one or more dashes. A name component may not start or end with a separator.\n",
        "\n",
        "An image is made up of a manifest and a list of layers. Don’t worry too much about manifests and layers at this point other than a “tag” points to a combination of these artifacts. You can have multiple tags for an image. Let’s create a second tag for the image you built and take a look at its layers.\n",
        "\n",
        "To create a new tag for the image you built, run the following command."
      ],
      "metadata": {
        "id": "8EJWteg9o2Ri"
      }
    },
    {
      "cell_type": "markdown",
      "source": [
        "\n",
        "\n",
        "```\n",
        "docker tag python-docker:latest python-docker:v1.0.0\n",
        "```\n",
        "\n"
      ],
      "metadata": {
        "id": "mLDQrjwfo8Uj"
      }
    },
    {
      "cell_type": "markdown",
      "source": [
        "The docker tag command creates a new tag for an image. It doesn’t create a new image. The tag points to the same image and is just another way to reference the image.\n",
        "\n",
        "Now, run the docker images command to see a list of the local images."
      ],
      "metadata": {
        "id": "MbkKhuO0pCf2"
      }
    },
    {
      "cell_type": "markdown",
      "source": [
        "\n",
        "\n",
        "```\n",
        "$ docker images\n",
        "REPOSITORY      TAG               IMAGE ID       CREATED         SIZE\n",
        "python-docker   latest            8cae92a8fbd6   4 minutes ago   123MB\n",
        "python-docker   v1.0.0            8cae92a8fbd6   4 minutes ago   123MB\n",
        "python          3.8-slim-buster   be5d294735c6   9 days ago      113MB\n",
        "```\n",
        "\n"
      ],
      "metadata": {
        "id": "vPoeIbDspHdO"
      }
    },
    {
      "cell_type": "markdown",
      "source": [
        "You can see that two images start with python-docker. You know they’re the same image because if you take a look at the IMAGE ID column, you can see that the values are the same for the two images.\n",
        "\n",
        "Remove the tag you just created. To do this, use the rmi command. The rmi command stands for remove image."
      ],
      "metadata": {
        "id": "JZdmOGrUpMfw"
      }
    },
    {
      "cell_type": "markdown",
      "source": [
        "\n",
        "\n",
        "```\n",
        "$ docker rmi python-docker:v1.0.0\n",
        "Untagged: python-docker:v1.0.0\n",
        "```\n",
        "\n"
      ],
      "metadata": {
        "id": "JJPkry7ApSKZ"
      }
    },
    {
      "cell_type": "markdown",
      "source": [
        "Note that the response from Docker tells you that Docker didn’t remove the image, but only “untagged” it. You can check this by running the docker images command."
      ],
      "metadata": {
        "id": "KxAkJHfMpWcw"
      }
    },
    {
      "cell_type": "markdown",
      "source": [
        "\n",
        "\n",
        "```\n",
        "$ docker images\n",
        "REPOSITORY      TAG               IMAGE ID       CREATED         SIZE\n",
        "python-docker   latest            8cae92a8fbd6   6 minutes ago   123MB\n",
        "python          3.8-slim-buster   be5d294735c6   9 days ago      113MB\n",
        "```\n",
        "\n"
      ],
      "metadata": {
        "id": "zcdftEs-pd55"
      }
    },
    {
      "cell_type": "markdown",
      "source": [
        "# **Next steps**\n",
        "\n",
        "This module looked at setting up an example Python application used for the rest of the tutorial, and created a Dockerfile used to build the Docker image. It also looked at tagging and removing images.\n",
        "\n",
        "The next module will take a look at how to:"
      ],
      "metadata": {
        "id": "iBMtMKPxpkSl"
      }
    },
    {
      "cell_type": "markdown",
      "source": [
        "![image.png](data:image/png;base64,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)\n"
      ],
      "metadata": {
        "id": "trYWtfPCppnC"
      }
    },
    {
      "cell_type": "markdown",
      "source": [],
      "metadata": {
        "id": "Oz7TS1s-p5zb"
      }
    },
    {
      "cell_type": "code",
      "execution_count": null,
      "metadata": {
        "id": "sto-UdRthsyo"
      },
      "outputs": [],
      "source": []
    },
    {
      "cell_type": "markdown",
      "source": [],
      "metadata": {
        "id": "XAViyCdNkfVj"
      }
    }
  ]
}